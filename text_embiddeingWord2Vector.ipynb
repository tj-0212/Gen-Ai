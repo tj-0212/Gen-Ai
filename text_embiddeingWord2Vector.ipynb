{
  "nbformat": 4,
  "nbformat_minor": 0,
  "metadata": {
    "colab": {
      "provenance": []
    },
    "kernelspec": {
      "name": "python3",
      "display_name": "Python 3"
    },
    "language_info": {
      "name": "python"
    }
  },
  "cells": [
    {
      "cell_type": "code",
      "execution_count": 2,
      "metadata": {
        "id": "4K3yDK2nN74f"
      },
      "outputs": [],
      "source": [
        "import pandas as pd\n",
        "import numpy as np\n",
        "import gensim\n",
        "import os"
      ]
    },
    {
      "cell_type": "code",
      "source": [
        "from nltk import sent_tokenize\n",
        "from gensim.utils import simple_preprocess\n",
        "from gensim.models import Word2Vec\n",
        "import nltk\n",
        "nltk.download('punkt')\n",
        "nltk.download('punkt_tab')\n"
      ],
      "metadata": {
        "colab": {
          "base_uri": "https://localhost:8080/"
        },
        "id": "TPjqwLiexXex",
        "outputId": "c421c14a-498d-4482-9f1a-15c2287ae9e7"
      },
      "execution_count": 6,
      "outputs": [
        {
          "output_type": "stream",
          "name": "stderr",
          "text": [
            "[nltk_data] Downloading package punkt to /root/nltk_data...\n",
            "[nltk_data]   Package punkt is already up-to-date!\n",
            "[nltk_data] Downloading package punkt_tab to /root/nltk_data...\n",
            "[nltk_data]   Unzipping tokenizers/punkt_tab.zip.\n"
          ]
        },
        {
          "output_type": "execute_result",
          "data": {
            "text/plain": [
              "True"
            ]
          },
          "metadata": {},
          "execution_count": 6
        }
      ]
    },
    {
      "cell_type": "code",
      "source": [
        "story = []\n",
        "for filename in os.listdir('data'):\n",
        "    if filename == '.ipynb_checkpoints':\n",
        "      pass\n",
        "    f = open(os.path.join('data',filename))\n",
        "    corpus = f.read()\n",
        "    raw_sent = sent_tokenize(corpus)\n",
        "    for sent in raw_sent:\n",
        "        story.append(simple_preprocess(sent))"
      ],
      "metadata": {
        "id": "1dwQOXUyxp1I"
      },
      "execution_count": 7,
      "outputs": []
    },
    {
      "cell_type": "code",
      "source": [
        "story[0]"
      ],
      "metadata": {
        "colab": {
          "base_uri": "https://localhost:8080/"
        },
        "id": "ip7UT9E5x864",
        "outputId": "dbd7450a-a054-4686-c83a-5bcf6a97f64b"
      },
      "execution_count": 9,
      "outputs": [
        {
          "output_type": "execute_result",
          "data": {
            "text/plain": [
              "['game',\n",
              " 'of',\n",
              " 'thrones',\n",
              " 'book',\n",
              " 'one',\n",
              " 'of',\n",
              " 'song',\n",
              " 'of',\n",
              " 'ice',\n",
              " 'and',\n",
              " 'fire',\n",
              " 'by',\n",
              " 'george',\n",
              " 'martin',\n",
              " 'prologue',\n",
              " 'we',\n",
              " 'should',\n",
              " 'start',\n",
              " 'back',\n",
              " 'gared',\n",
              " 'urged',\n",
              " 'as',\n",
              " 'the',\n",
              " 'woods',\n",
              " 'began',\n",
              " 'to',\n",
              " 'grow',\n",
              " 'dark',\n",
              " 'around',\n",
              " 'them']"
            ]
          },
          "metadata": {},
          "execution_count": 9
        }
      ]
    },
    {
      "cell_type": "code",
      "source": [
        "model = gensim.models.Word2Vec(\n",
        "    window=10,\n",
        "    min_count=2\n",
        ")"
      ],
      "metadata": {
        "id": "1s7HQE-CyNAo"
      },
      "execution_count": 10,
      "outputs": []
    },
    {
      "cell_type": "code",
      "source": [
        "model.build_vocab(story)\n",
        "model.train(story, total_examples=model.corpus_count, epochs=model.epochs)"
      ],
      "metadata": {
        "colab": {
          "base_uri": "https://localhost:8080/"
        },
        "id": "CiLLq5ikyi04",
        "outputId": "0c6812da-cd64-4ee0-c3d0-560cb636f44e"
      },
      "execution_count": 11,
      "outputs": [
        {
          "output_type": "execute_result",
          "data": {
            "text/plain": [
              "(1059462, 1423500)"
            ]
          },
          "metadata": {},
          "execution_count": 11
        }
      ]
    },
    {
      "cell_type": "code",
      "source": [
        "model.wv.most_similar('king')"
      ],
      "metadata": {
        "colab": {
          "base_uri": "https://localhost:8080/"
        },
        "id": "XwHClU-wyq-Y",
        "outputId": "dcad2ab2-0b1e-4828-8f4f-7db7d0fffe33"
      },
      "execution_count": 12,
      "outputs": [
        {
          "output_type": "execute_result",
          "data": {
            "text/plain": [
              "[('protector', 0.872936487197876),\n",
              " ('victory', 0.8701244592666626),\n",
              " ('name', 0.862812340259552),\n",
              " ('stark', 0.8610846996307373),\n",
              " ('lord', 0.8583235740661621),\n",
              " ('fostered', 0.8525722622871399),\n",
              " ('place', 0.8466589450836182),\n",
              " ('baratheon', 0.8389686942100525),\n",
              " ('power', 0.8374387621879578),\n",
              " ('landing', 0.8368714451789856)]"
            ]
          },
          "metadata": {},
          "execution_count": 12
        }
      ]
    },
    {
      "cell_type": "code",
      "source": [
        "model.wv.similarity('king','victory')"
      ],
      "metadata": {
        "colab": {
          "base_uri": "https://localhost:8080/"
        },
        "id": "CKiE6AZXy-Vw",
        "outputId": "5ab20586-ea9c-416d-e54d-03badc85aebc"
      },
      "execution_count": 15,
      "outputs": [
        {
          "output_type": "execute_result",
          "data": {
            "text/plain": [
              "0.8701244"
            ]
          },
          "metadata": {},
          "execution_count": 15
        }
      ]
    },
    {
      "cell_type": "code",
      "source": [
        "vec = model.wv.get_normed_vectors()"
      ],
      "metadata": {
        "id": "JhFk0KDSzHFI"
      },
      "execution_count": 16,
      "outputs": []
    },
    {
      "cell_type": "code",
      "source": [
        "from sklearn.decomposition import PCA\n",
        "pca = PCA(n_components=3)\n",
        "X = pca.fit_transform(model.wv.get_normed_vectors())\n"
      ],
      "metadata": {
        "id": "Wh1pMGagzTff"
      },
      "execution_count": 17,
      "outputs": []
    },
    {
      "cell_type": "code",
      "source": [
        "X"
      ],
      "metadata": {
        "colab": {
          "base_uri": "https://localhost:8080/"
        },
        "id": "iJcBBzTgzZiB",
        "outputId": "84cf7559-5a4c-4851-ae48-21339cb42aee"
      },
      "execution_count": 18,
      "outputs": [
        {
          "output_type": "execute_result",
          "data": {
            "text/plain": [
              "array([[-0.34693077,  0.113397  ,  0.41744685],\n",
              "       [-0.42465124, -0.006163  ,  0.23108076],\n",
              "       [ 0.43136254,  0.14386755,  0.00348073],\n",
              "       ...,\n",
              "       [ 0.3756233 ,  0.1328944 , -0.10166579],\n",
              "       [-0.37412205, -0.01028556,  0.09994116],\n",
              "       [-0.1982531 , -0.0176959 , -0.05054685]], dtype=float32)"
            ]
          },
          "metadata": {},
          "execution_count": 18
        }
      ]
    },
    {
      "cell_type": "code",
      "source": [
        "X.shape\n",
        "y = np.random.randint(0, 5, size=500)  # Create 5 categories for `y`\n",
        "\n",
        "import plotly.express as px\n",
        "fig = px.scatter_3d(X[200:300],x=0,y=1,z=2, color=y[200:300])\n",
        "fig.show()"
      ],
      "metadata": {
        "colab": {
          "base_uri": "https://localhost:8080/",
          "height": 542
        },
        "id": "0tBv4BTczckh",
        "outputId": "9d4517d4-d42a-41a1-f6e1-c273cc6e8968"
      },
      "execution_count": 24,
      "outputs": [
        {
          "output_type": "display_data",
          "data": {
            "text/html": [
              "<html>\n",
              "<head><meta charset=\"utf-8\" /></head>\n",
              "<body>\n",
              "    <div>            <script src=\"https://cdnjs.cloudflare.com/ajax/libs/mathjax/2.7.5/MathJax.js?config=TeX-AMS-MML_SVG\"></script><script type=\"text/javascript\">if (window.MathJax && window.MathJax.Hub && window.MathJax.Hub.Config) {window.MathJax.Hub.Config({SVG: {font: \"STIX-Web\"}});}</script>                <script type=\"text/javascript\">window.PlotlyConfig = {MathJaxConfig: 'local'};</script>\n",
              "        <script charset=\"utf-8\" src=\"https://cdn.plot.ly/plotly-2.35.2.min.js\"></script>                <div id=\"b77b2e87-a6fc-4ef2-b3da-07ea483e66e8\" class=\"plotly-graph-div\" style=\"height:525px; width:100%;\"></div>            <script type=\"text/javascript\">                                    window.PLOTLYENV=window.PLOTLYENV || {};                                    if (document.getElementById(\"b77b2e87-a6fc-4ef2-b3da-07ea483e66e8\")) {                    Plotly.newPlot(                        \"b77b2e87-a6fc-4ef2-b3da-07ea483e66e8\",                        [{\"hovertemplate\":\"0=%{x}\\u003cbr\\u003e1=%{y}\\u003cbr\\u003e2=%{z}\\u003cbr\\u003ecolor=%{marker.color}\\u003cextra\\u003e\\u003c\\u002fextra\\u003e\",\"legendgroup\":\"\",\"marker\":{\"color\":[3,1,2,3,4,2,1,1,1,2,2,4,2,4,4,2,3,3,3,1,3,1,0,1,1,2,4,4,4,4,3,3,0,1,2,3,3,1,0,3,0,3,4,2,0,4,3,0,3,4,4,3,0,1,1,3,1,0,4,1,2,1,3,4,4,2,0,3,1,4,1,4,4,1,0,3,4,4,2,0,1,0,1,3,2,2,2,0,1,2,4,1,0,3,2,1,0,4,0,3],\"coloraxis\":\"coloraxis\",\"symbol\":\"circle\"},\"mode\":\"markers\",\"name\":\"\",\"scene\":\"scene\",\"showlegend\":false,\"x\":[-0.6002325,0.7116352,-0.46960118,0.47546187,0.58626544,0.5277731,-0.10311855,-0.12687281,-0.62563306,0.5468435,-0.28497195,-0.45585266,0.42945504,0.12290454,-0.42774132,-0.15654048,0.27799276,0.34305567,-0.51761323,-0.41045225,-0.5197431,0.01709529,0.49065384,-0.46951726,0.58021736,0.035060517,0.084650844,-0.09571686,-0.39318386,-0.5765646,-0.096278645,0.66158074,0.24555364,0.6474846,0.43912646,0.28418124,0.40248024,0.40007606,0.21563673,0.13652463,0.42113334,0.08820734,0.686611,-0.36454067,0.5734481,0.5906405,0.5125005,0.6311945,0.07116345,-0.19866335,0.069634594,0.52974504,-0.4175379,-0.5079078,-0.4425783,0.2794843,0.5383117,0.6400168,-0.0056521893,-0.15454254,0.45377794,0.56334543,0.17777348,0.5440722,0.40519163,-0.24367976,0.2519711,0.49377206,0.41396934,0.037651077,-0.13969707,-0.3538681,-0.08903406,-0.0100334585,-0.08067288,0.13317043,0.5411781,0.053059112,-0.567428,0.118123606,-0.5480932,-0.28792202,-0.40256238,0.3046666,0.5664012,0.39915314,0.1405049,0.09014427,-0.501839,-0.3545274,-0.46405086,0.32008484,-0.42828745,0.41678756,0.056002956,0.47073674,-0.39709395,-0.22226703,0.040899295,0.2217384],\"y\":[0.16116643,0.16491646,0.1186378,0.13649708,0.2304374,0.17972696,-0.05694884,-0.0888204,0.13384187,0.01882732,-0.0913136,0.007943988,-0.012106001,0.14780772,0.013758421,0.24438971,-0.033885002,0.08422792,0.052352726,-0.069289565,0.09425068,-0.04335016,0.13540077,-0.02416557,0.04400748,-0.15252423,-0.13817298,-0.068169,0.03209281,0.0901407,-0.008238137,0.21516478,-0.122829854,0.08892417,0.07599908,-0.106031895,-0.03641963,-0.05157268,0.11944014,0.16830015,0.22545165,0.17776465,0.07925373,-0.026670277,0.054959238,0.0447163,0.04799968,0.03606063,-0.12172651,-0.025474131,-0.09099293,0.016076088,0.070667565,0.053664625,0.00369215,-0.080488145,-0.040457368,0.020697832,-0.07972944,-0.04977721,-0.065939665,0.053449273,-0.08553767,0.0069249272,0.07080066,-0.07006848,-0.15285856,-0.0012098551,-0.03818941,-0.058300793,-0.0846076,0.0010730028,-0.13409066,0.037705123,0.05259025,-0.19047868,-0.06858885,-0.10961348,0.08650404,-0.0040489435,0.16307855,-0.0021580458,0.046545982,-0.06343019,0.033792734,-0.09154093,-0.11953932,-0.14584368,0.05973798,-0.012836695,-0.0019090176,0.029277563,-0.0068127513,-0.06028515,0.35738105,-0.02027142,0.040989876,0.010501981,-0.15845948,-0.046136856],\"z\":[-0.01985386,-0.0016439557,-0.07364383,-0.17702588,-0.23274234,-0.21189228,-0.07399011,-0.010305554,0.08067897,0.027255982,0.06345028,0.071713805,0.25953853,-0.2947097,0.031168997,-0.38420412,-0.13483462,-0.23972633,0.03962639,0.2107856,0.00569579,-0.079768896,-0.19568399,0.16966109,0.022844821,0.10823515,0.017910272,-0.089740336,-0.0026102662,0.097807854,-0.16663799,-0.120563835,0.3293061,0.17908105,-0.18086872,0.213984,0.11258021,0.07570493,0.0266307,-0.3742729,-0.24419114,-0.3996252,0.20354916,0.08104947,0.010034561,0.029145211,-0.08629465,0.15197782,0.011102259,-0.10357678,-0.09469643,-0.04736975,-0.110054195,0.06530902,0.022936553,0.30837622,0.1935266,0.23443407,-0.021727651,0.038311422,0.16812798,-0.049342573,0.031992435,0.057070166,-0.19225952,0.11003029,0.18268988,-0.035588115,0.038796425,-0.05496797,0.12771313,0.0033398867,0.22008687,-0.20214769,-0.27594385,0.2729665,0.23977983,-0.049726695,0.051108032,-0.16522315,-0.080741405,-0.08628225,-0.09496254,-0.03663698,0.0010988712,0.054956645,0.0039105713,0.31399798,0.024872035,-0.015416682,0.1607844,-0.13871363,0.12730148,0.06918618,-0.4810759,0.07072514,-0.05724612,-0.154353,0.16352515,-0.13981304],\"type\":\"scatter3d\"}],                        {\"template\":{\"data\":{\"histogram2dcontour\":[{\"type\":\"histogram2dcontour\",\"colorbar\":{\"outlinewidth\":0,\"ticks\":\"\"},\"colorscale\":[[0.0,\"#0d0887\"],[0.1111111111111111,\"#46039f\"],[0.2222222222222222,\"#7201a8\"],[0.3333333333333333,\"#9c179e\"],[0.4444444444444444,\"#bd3786\"],[0.5555555555555556,\"#d8576b\"],[0.6666666666666666,\"#ed7953\"],[0.7777777777777778,\"#fb9f3a\"],[0.8888888888888888,\"#fdca26\"],[1.0,\"#f0f921\"]]}],\"choropleth\":[{\"type\":\"choropleth\",\"colorbar\":{\"outlinewidth\":0,\"ticks\":\"\"}}],\"histogram2d\":[{\"type\":\"histogram2d\",\"colorbar\":{\"outlinewidth\":0,\"ticks\":\"\"},\"colorscale\":[[0.0,\"#0d0887\"],[0.1111111111111111,\"#46039f\"],[0.2222222222222222,\"#7201a8\"],[0.3333333333333333,\"#9c179e\"],[0.4444444444444444,\"#bd3786\"],[0.5555555555555556,\"#d8576b\"],[0.6666666666666666,\"#ed7953\"],[0.7777777777777778,\"#fb9f3a\"],[0.8888888888888888,\"#fdca26\"],[1.0,\"#f0f921\"]]}],\"heatmap\":[{\"type\":\"heatmap\",\"colorbar\":{\"outlinewidth\":0,\"ticks\":\"\"},\"colorscale\":[[0.0,\"#0d0887\"],[0.1111111111111111,\"#46039f\"],[0.2222222222222222,\"#7201a8\"],[0.3333333333333333,\"#9c179e\"],[0.4444444444444444,\"#bd3786\"],[0.5555555555555556,\"#d8576b\"],[0.6666666666666666,\"#ed7953\"],[0.7777777777777778,\"#fb9f3a\"],[0.8888888888888888,\"#fdca26\"],[1.0,\"#f0f921\"]]}],\"heatmapgl\":[{\"type\":\"heatmapgl\",\"colorbar\":{\"outlinewidth\":0,\"ticks\":\"\"},\"colorscale\":[[0.0,\"#0d0887\"],[0.1111111111111111,\"#46039f\"],[0.2222222222222222,\"#7201a8\"],[0.3333333333333333,\"#9c179e\"],[0.4444444444444444,\"#bd3786\"],[0.5555555555555556,\"#d8576b\"],[0.6666666666666666,\"#ed7953\"],[0.7777777777777778,\"#fb9f3a\"],[0.8888888888888888,\"#fdca26\"],[1.0,\"#f0f921\"]]}],\"contourcarpet\":[{\"type\":\"contourcarpet\",\"colorbar\":{\"outlinewidth\":0,\"ticks\":\"\"}}],\"contour\":[{\"type\":\"contour\",\"colorbar\":{\"outlinewidth\":0,\"ticks\":\"\"},\"colorscale\":[[0.0,\"#0d0887\"],[0.1111111111111111,\"#46039f\"],[0.2222222222222222,\"#7201a8\"],[0.3333333333333333,\"#9c179e\"],[0.4444444444444444,\"#bd3786\"],[0.5555555555555556,\"#d8576b\"],[0.6666666666666666,\"#ed7953\"],[0.7777777777777778,\"#fb9f3a\"],[0.8888888888888888,\"#fdca26\"],[1.0,\"#f0f921\"]]}],\"surface\":[{\"type\":\"surface\",\"colorbar\":{\"outlinewidth\":0,\"ticks\":\"\"},\"colorscale\":[[0.0,\"#0d0887\"],[0.1111111111111111,\"#46039f\"],[0.2222222222222222,\"#7201a8\"],[0.3333333333333333,\"#9c179e\"],[0.4444444444444444,\"#bd3786\"],[0.5555555555555556,\"#d8576b\"],[0.6666666666666666,\"#ed7953\"],[0.7777777777777778,\"#fb9f3a\"],[0.8888888888888888,\"#fdca26\"],[1.0,\"#f0f921\"]]}],\"mesh3d\":[{\"type\":\"mesh3d\",\"colorbar\":{\"outlinewidth\":0,\"ticks\":\"\"}}],\"scatter\":[{\"fillpattern\":{\"fillmode\":\"overlay\",\"size\":10,\"solidity\":0.2},\"type\":\"scatter\"}],\"parcoords\":[{\"type\":\"parcoords\",\"line\":{\"colorbar\":{\"outlinewidth\":0,\"ticks\":\"\"}}}],\"scatterpolargl\":[{\"type\":\"scatterpolargl\",\"marker\":{\"colorbar\":{\"outlinewidth\":0,\"ticks\":\"\"}}}],\"bar\":[{\"error_x\":{\"color\":\"#2a3f5f\"},\"error_y\":{\"color\":\"#2a3f5f\"},\"marker\":{\"line\":{\"color\":\"#E5ECF6\",\"width\":0.5},\"pattern\":{\"fillmode\":\"overlay\",\"size\":10,\"solidity\":0.2}},\"type\":\"bar\"}],\"scattergeo\":[{\"type\":\"scattergeo\",\"marker\":{\"colorbar\":{\"outlinewidth\":0,\"ticks\":\"\"}}}],\"scatterpolar\":[{\"type\":\"scatterpolar\",\"marker\":{\"colorbar\":{\"outlinewidth\":0,\"ticks\":\"\"}}}],\"histogram\":[{\"marker\":{\"pattern\":{\"fillmode\":\"overlay\",\"size\":10,\"solidity\":0.2}},\"type\":\"histogram\"}],\"scattergl\":[{\"type\":\"scattergl\",\"marker\":{\"colorbar\":{\"outlinewidth\":0,\"ticks\":\"\"}}}],\"scatter3d\":[{\"type\":\"scatter3d\",\"line\":{\"colorbar\":{\"outlinewidth\":0,\"ticks\":\"\"}},\"marker\":{\"colorbar\":{\"outlinewidth\":0,\"ticks\":\"\"}}}],\"scattermapbox\":[{\"type\":\"scattermapbox\",\"marker\":{\"colorbar\":{\"outlinewidth\":0,\"ticks\":\"\"}}}],\"scatterternary\":[{\"type\":\"scatterternary\",\"marker\":{\"colorbar\":{\"outlinewidth\":0,\"ticks\":\"\"}}}],\"scattercarpet\":[{\"type\":\"scattercarpet\",\"marker\":{\"colorbar\":{\"outlinewidth\":0,\"ticks\":\"\"}}}],\"carpet\":[{\"aaxis\":{\"endlinecolor\":\"#2a3f5f\",\"gridcolor\":\"white\",\"linecolor\":\"white\",\"minorgridcolor\":\"white\",\"startlinecolor\":\"#2a3f5f\"},\"baxis\":{\"endlinecolor\":\"#2a3f5f\",\"gridcolor\":\"white\",\"linecolor\":\"white\",\"minorgridcolor\":\"white\",\"startlinecolor\":\"#2a3f5f\"},\"type\":\"carpet\"}],\"table\":[{\"cells\":{\"fill\":{\"color\":\"#EBF0F8\"},\"line\":{\"color\":\"white\"}},\"header\":{\"fill\":{\"color\":\"#C8D4E3\"},\"line\":{\"color\":\"white\"}},\"type\":\"table\"}],\"barpolar\":[{\"marker\":{\"line\":{\"color\":\"#E5ECF6\",\"width\":0.5},\"pattern\":{\"fillmode\":\"overlay\",\"size\":10,\"solidity\":0.2}},\"type\":\"barpolar\"}],\"pie\":[{\"automargin\":true,\"type\":\"pie\"}]},\"layout\":{\"autotypenumbers\":\"strict\",\"colorway\":[\"#636efa\",\"#EF553B\",\"#00cc96\",\"#ab63fa\",\"#FFA15A\",\"#19d3f3\",\"#FF6692\",\"#B6E880\",\"#FF97FF\",\"#FECB52\"],\"font\":{\"color\":\"#2a3f5f\"},\"hovermode\":\"closest\",\"hoverlabel\":{\"align\":\"left\"},\"paper_bgcolor\":\"white\",\"plot_bgcolor\":\"#E5ECF6\",\"polar\":{\"bgcolor\":\"#E5ECF6\",\"angularaxis\":{\"gridcolor\":\"white\",\"linecolor\":\"white\",\"ticks\":\"\"},\"radialaxis\":{\"gridcolor\":\"white\",\"linecolor\":\"white\",\"ticks\":\"\"}},\"ternary\":{\"bgcolor\":\"#E5ECF6\",\"aaxis\":{\"gridcolor\":\"white\",\"linecolor\":\"white\",\"ticks\":\"\"},\"baxis\":{\"gridcolor\":\"white\",\"linecolor\":\"white\",\"ticks\":\"\"},\"caxis\":{\"gridcolor\":\"white\",\"linecolor\":\"white\",\"ticks\":\"\"}},\"coloraxis\":{\"colorbar\":{\"outlinewidth\":0,\"ticks\":\"\"}},\"colorscale\":{\"sequential\":[[0.0,\"#0d0887\"],[0.1111111111111111,\"#46039f\"],[0.2222222222222222,\"#7201a8\"],[0.3333333333333333,\"#9c179e\"],[0.4444444444444444,\"#bd3786\"],[0.5555555555555556,\"#d8576b\"],[0.6666666666666666,\"#ed7953\"],[0.7777777777777778,\"#fb9f3a\"],[0.8888888888888888,\"#fdca26\"],[1.0,\"#f0f921\"]],\"sequentialminus\":[[0.0,\"#0d0887\"],[0.1111111111111111,\"#46039f\"],[0.2222222222222222,\"#7201a8\"],[0.3333333333333333,\"#9c179e\"],[0.4444444444444444,\"#bd3786\"],[0.5555555555555556,\"#d8576b\"],[0.6666666666666666,\"#ed7953\"],[0.7777777777777778,\"#fb9f3a\"],[0.8888888888888888,\"#fdca26\"],[1.0,\"#f0f921\"]],\"diverging\":[[0,\"#8e0152\"],[0.1,\"#c51b7d\"],[0.2,\"#de77ae\"],[0.3,\"#f1b6da\"],[0.4,\"#fde0ef\"],[0.5,\"#f7f7f7\"],[0.6,\"#e6f5d0\"],[0.7,\"#b8e186\"],[0.8,\"#7fbc41\"],[0.9,\"#4d9221\"],[1,\"#276419\"]]},\"xaxis\":{\"gridcolor\":\"white\",\"linecolor\":\"white\",\"ticks\":\"\",\"title\":{\"standoff\":15},\"zerolinecolor\":\"white\",\"automargin\":true,\"zerolinewidth\":2},\"yaxis\":{\"gridcolor\":\"white\",\"linecolor\":\"white\",\"ticks\":\"\",\"title\":{\"standoff\":15},\"zerolinecolor\":\"white\",\"automargin\":true,\"zerolinewidth\":2},\"scene\":{\"xaxis\":{\"backgroundcolor\":\"#E5ECF6\",\"gridcolor\":\"white\",\"linecolor\":\"white\",\"showbackground\":true,\"ticks\":\"\",\"zerolinecolor\":\"white\",\"gridwidth\":2},\"yaxis\":{\"backgroundcolor\":\"#E5ECF6\",\"gridcolor\":\"white\",\"linecolor\":\"white\",\"showbackground\":true,\"ticks\":\"\",\"zerolinecolor\":\"white\",\"gridwidth\":2},\"zaxis\":{\"backgroundcolor\":\"#E5ECF6\",\"gridcolor\":\"white\",\"linecolor\":\"white\",\"showbackground\":true,\"ticks\":\"\",\"zerolinecolor\":\"white\",\"gridwidth\":2}},\"shapedefaults\":{\"line\":{\"color\":\"#2a3f5f\"}},\"annotationdefaults\":{\"arrowcolor\":\"#2a3f5f\",\"arrowhead\":0,\"arrowwidth\":1},\"geo\":{\"bgcolor\":\"white\",\"landcolor\":\"#E5ECF6\",\"subunitcolor\":\"white\",\"showland\":true,\"showlakes\":true,\"lakecolor\":\"white\"},\"title\":{\"x\":0.05},\"mapbox\":{\"style\":\"light\"}}},\"scene\":{\"domain\":{\"x\":[0.0,1.0],\"y\":[0.0,1.0]},\"xaxis\":{\"title\":{\"text\":\"0\"}},\"yaxis\":{\"title\":{\"text\":\"1\"}},\"zaxis\":{\"title\":{\"text\":\"2\"}}},\"coloraxis\":{\"colorbar\":{\"title\":{\"text\":\"color\"}},\"colorscale\":[[0.0,\"#0d0887\"],[0.1111111111111111,\"#46039f\"],[0.2222222222222222,\"#7201a8\"],[0.3333333333333333,\"#9c179e\"],[0.4444444444444444,\"#bd3786\"],[0.5555555555555556,\"#d8576b\"],[0.6666666666666666,\"#ed7953\"],[0.7777777777777778,\"#fb9f3a\"],[0.8888888888888888,\"#fdca26\"],[1.0,\"#f0f921\"]]},\"legend\":{\"tracegroupgap\":0},\"margin\":{\"t\":60}},                        {\"responsive\": true}                    ).then(function(){\n",
              "                            \n",
              "var gd = document.getElementById('b77b2e87-a6fc-4ef2-b3da-07ea483e66e8');\n",
              "var x = new MutationObserver(function (mutations, observer) {{\n",
              "        var display = window.getComputedStyle(gd).display;\n",
              "        if (!display || display === 'none') {{\n",
              "            console.log([gd, 'removed!']);\n",
              "            Plotly.purge(gd);\n",
              "            observer.disconnect();\n",
              "        }}\n",
              "}});\n",
              "\n",
              "// Listen for the removal of the full notebook cells\n",
              "var notebookContainer = gd.closest('#notebook-container');\n",
              "if (notebookContainer) {{\n",
              "    x.observe(notebookContainer, {childList: true});\n",
              "}}\n",
              "\n",
              "// Listen for the clearing of the current output cell\n",
              "var outputEl = gd.closest('.output');\n",
              "if (outputEl) {{\n",
              "    x.observe(outputEl, {childList: true});\n",
              "}}\n",
              "\n",
              "                        })                };                            </script>        </div>\n",
              "</body>\n",
              "</html>"
            ]
          },
          "metadata": {}
        }
      ]
    }
  ]
}